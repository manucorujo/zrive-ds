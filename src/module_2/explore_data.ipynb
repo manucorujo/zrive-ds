{
 "cells": [
  {
   "cell_type": "code",
   "execution_count": null,
   "metadata": {},
   "outputs": [],
   "source": [
    "import pandas as pd\n",
    "\n",
    "abandonded_carts = pd.read_parquet(\"/home/manucorujo/zrive-data/abandoned_carts.parquet\")\n",
    "inventory = pd.read_parquet(\"/home/manucorujo/zrive-data/inventory.parquet\")\n",
    "orders = pd.read_parquet(\"/home/manucorujo/zrive-data/orders.parquet\")\n",
    "regulars = pd.read_parquet(\"/home/manucorujo/zrive-data/regulars.parquet\")\n",
    "users = pd.read_parquet(\"/home/manucorujo/zrive-data/users.parquet\")\n"
   ]
  }
 ],
 "metadata": {
  "kernelspec": {
   "display_name": "zrive-ds-ojkehGB--py3.11",
   "language": "python",
   "name": "python3"
  },
  "language_info": {
   "codemirror_mode": {
    "name": "ipython",
    "version": 3
   },
   "file_extension": ".py",
   "mimetype": "text/x-python",
   "name": "python",
   "nbconvert_exporter": "python",
   "pygments_lexer": "ipython3",
   "version": "3.11.0"
  }
 },
 "nbformat": 4,
 "nbformat_minor": 2
}
