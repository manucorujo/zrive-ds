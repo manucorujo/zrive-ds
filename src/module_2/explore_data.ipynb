{
 "cells": [
  {
   "cell_type": "code",
   "execution_count": 1,
   "metadata": {},
   "outputs": [],
   "source": [
    "import pandas as pd\n",
    "\n",
    "abandonded_carts = pd.read_parquet(\"/home/manucorujo/zrive-data/abandoned_carts.parquet\")\n",
    "inventory = pd.read_parquet(\"/home/manucorujo/zrive-data/inventory.parquet\")\n",
    "orders = pd.read_parquet(\"/home/manucorujo/zrive-data/orders.parquet\")\n",
    "regulars = pd.read_parquet(\"/home/manucorujo/zrive-data/regulars.parquet\")\n",
    "users = pd.read_parquet(\"/home/manucorujo/zrive-data/users.parquet\")\n"
   ]
  },
  {
   "cell_type": "markdown",
   "metadata": {},
   "source": [
    "# Abandoned carts"
   ]
  },
  {
   "cell_type": "code",
   "execution_count": 6,
   "metadata": {},
   "outputs": [
    {
     "name": "stdout",
     "output_type": "stream",
     "text": [
      "<class 'pandas.core.frame.DataFrame'>\n",
      "Index: 5457 entries, 0 to 70050\n",
      "Data columns (total 4 columns):\n",
      " #   Column      Non-Null Count  Dtype         \n",
      "---  ------      --------------  -----         \n",
      " 0   id          5457 non-null   int64         \n",
      " 1   user_id     5457 non-null   object        \n",
      " 2   created_at  5457 non-null   datetime64[us]\n",
      " 3   variant_id  5457 non-null   object        \n",
      "dtypes: datetime64[us](1), int64(1), object(2)\n",
      "memory usage: 213.2+ KB\n"
     ]
    }
   ],
   "source": [
    "abandonded_carts.info()"
   ]
  },
  {
   "cell_type": "code",
   "execution_count": 7,
   "metadata": {},
   "outputs": [
    {
     "data": {
      "text/html": [
       "<div>\n",
       "<style scoped>\n",
       "    .dataframe tbody tr th:only-of-type {\n",
       "        vertical-align: middle;\n",
       "    }\n",
       "\n",
       "    .dataframe tbody tr th {\n",
       "        vertical-align: top;\n",
       "    }\n",
       "\n",
       "    .dataframe thead th {\n",
       "        text-align: right;\n",
       "    }\n",
       "</style>\n",
       "<table border=\"1\" class=\"dataframe\">\n",
       "  <thead>\n",
       "    <tr style=\"text-align: right;\">\n",
       "      <th></th>\n",
       "      <th>id</th>\n",
       "      <th>user_id</th>\n",
       "      <th>created_at</th>\n",
       "      <th>variant_id</th>\n",
       "    </tr>\n",
       "  </thead>\n",
       "  <tbody>\n",
       "    <tr>\n",
       "      <th>0</th>\n",
       "      <td>12858560217220</td>\n",
       "      <td>5c4e5953f13ddc3bc9659a3453356155e5efe4739d7a2b...</td>\n",
       "      <td>2020-05-20 13:53:24</td>\n",
       "      <td>[33826459287684, 33826457616516, 3366719212762...</td>\n",
       "    </tr>\n",
       "    <tr>\n",
       "      <th>13</th>\n",
       "      <td>20352449839236</td>\n",
       "      <td>9d6187545c005d39e44d0456d87790db18611d7c7379bd...</td>\n",
       "      <td>2021-06-27 05:24:13</td>\n",
       "      <td>[34415988179076, 34037940158596, 3450282236326...</td>\n",
       "    </tr>\n",
       "    <tr>\n",
       "      <th>45</th>\n",
       "      <td>20478401413252</td>\n",
       "      <td>e83fb0273d70c37a2968fee107113698fd4f389c442c0b...</td>\n",
       "      <td>2021-07-18 08:23:49</td>\n",
       "      <td>[34543001337988, 34037939372164, 3411360609088...</td>\n",
       "    </tr>\n",
       "    <tr>\n",
       "      <th>50</th>\n",
       "      <td>20481783103620</td>\n",
       "      <td>10c42e10e530284b7c7c50f3a23a98726d5747b8128084...</td>\n",
       "      <td>2021-07-18 21:29:36</td>\n",
       "      <td>[33667268116612, 34037940224132, 3443605520397...</td>\n",
       "    </tr>\n",
       "    <tr>\n",
       "      <th>52</th>\n",
       "      <td>20485321687172</td>\n",
       "      <td>d9989439524b3f6fc4f41686d043f315fb408b954d6153...</td>\n",
       "      <td>2021-07-19 12:17:05</td>\n",
       "      <td>[33667268083844, 34284950454404, 33973246886020]</td>\n",
       "    </tr>\n",
       "  </tbody>\n",
       "</table>\n",
       "</div>"
      ],
      "text/plain": [
       "                id                                            user_id  \\\n",
       "0   12858560217220  5c4e5953f13ddc3bc9659a3453356155e5efe4739d7a2b...   \n",
       "13  20352449839236  9d6187545c005d39e44d0456d87790db18611d7c7379bd...   \n",
       "45  20478401413252  e83fb0273d70c37a2968fee107113698fd4f389c442c0b...   \n",
       "50  20481783103620  10c42e10e530284b7c7c50f3a23a98726d5747b8128084...   \n",
       "52  20485321687172  d9989439524b3f6fc4f41686d043f315fb408b954d6153...   \n",
       "\n",
       "            created_at                                         variant_id  \n",
       "0  2020-05-20 13:53:24  [33826459287684, 33826457616516, 3366719212762...  \n",
       "13 2021-06-27 05:24:13  [34415988179076, 34037940158596, 3450282236326...  \n",
       "45 2021-07-18 08:23:49  [34543001337988, 34037939372164, 3411360609088...  \n",
       "50 2021-07-18 21:29:36  [33667268116612, 34037940224132, 3443605520397...  \n",
       "52 2021-07-19 12:17:05   [33667268083844, 34284950454404, 33973246886020]  "
      ]
     },
     "execution_count": 7,
     "metadata": {},
     "output_type": "execute_result"
    }
   ],
   "source": [
    "abandonded_carts.head()"
   ]
  },
  {
   "cell_type": "markdown",
   "metadata": {},
   "source": [
    "5457 entries and 5457 non-null count in every column. Variant_id is a list with the IDs of the products that were in the cart (not a descriptive name, imo)"
   ]
  },
  {
   "cell_type": "markdown",
   "metadata": {},
   "source": [
    "# Inventory"
   ]
  },
  {
   "cell_type": "code",
   "execution_count": 9,
   "metadata": {},
   "outputs": [
    {
     "name": "stdout",
     "output_type": "stream",
     "text": [
      "<class 'pandas.core.frame.DataFrame'>\n",
      "RangeIndex: 1733 entries, 0 to 1732\n",
      "Data columns (total 6 columns):\n",
      " #   Column            Non-Null Count  Dtype  \n",
      "---  ------            --------------  -----  \n",
      " 0   variant_id        1733 non-null   int64  \n",
      " 1   price             1733 non-null   float64\n",
      " 2   compare_at_price  1733 non-null   float64\n",
      " 3   vendor            1733 non-null   object \n",
      " 4   product_type      1733 non-null   object \n",
      " 5   tags              1733 non-null   object \n",
      "dtypes: float64(2), int64(1), object(3)\n",
      "memory usage: 81.4+ KB\n"
     ]
    }
   ],
   "source": [
    "inventory.info()"
   ]
  },
  {
   "cell_type": "code",
   "execution_count": 8,
   "metadata": {},
   "outputs": [
    {
     "data": {
      "text/html": [
       "<div>\n",
       "<style scoped>\n",
       "    .dataframe tbody tr th:only-of-type {\n",
       "        vertical-align: middle;\n",
       "    }\n",
       "\n",
       "    .dataframe tbody tr th {\n",
       "        vertical-align: top;\n",
       "    }\n",
       "\n",
       "    .dataframe thead th {\n",
       "        text-align: right;\n",
       "    }\n",
       "</style>\n",
       "<table border=\"1\" class=\"dataframe\">\n",
       "  <thead>\n",
       "    <tr style=\"text-align: right;\">\n",
       "      <th></th>\n",
       "      <th>variant_id</th>\n",
       "      <th>price</th>\n",
       "      <th>compare_at_price</th>\n",
       "      <th>vendor</th>\n",
       "      <th>product_type</th>\n",
       "      <th>tags</th>\n",
       "    </tr>\n",
       "  </thead>\n",
       "  <tbody>\n",
       "    <tr>\n",
       "      <th>0</th>\n",
       "      <td>39587297165444</td>\n",
       "      <td>3.09</td>\n",
       "      <td>3.15</td>\n",
       "      <td>heinz</td>\n",
       "      <td>condiments-dressings</td>\n",
       "      <td>[table-sauces, vegan]</td>\n",
       "    </tr>\n",
       "    <tr>\n",
       "      <th>1</th>\n",
       "      <td>34370361229444</td>\n",
       "      <td>4.99</td>\n",
       "      <td>5.50</td>\n",
       "      <td>whogivesacrap</td>\n",
       "      <td>toilet-roll-kitchen-roll-tissue</td>\n",
       "      <td>[b-corp, eco, toilet-rolls]</td>\n",
       "    </tr>\n",
       "    <tr>\n",
       "      <th>2</th>\n",
       "      <td>34284951863428</td>\n",
       "      <td>3.69</td>\n",
       "      <td>3.99</td>\n",
       "      <td>plenty</td>\n",
       "      <td>toilet-roll-kitchen-roll-tissue</td>\n",
       "      <td>[kitchen-roll]</td>\n",
       "    </tr>\n",
       "    <tr>\n",
       "      <th>3</th>\n",
       "      <td>33667283583108</td>\n",
       "      <td>1.79</td>\n",
       "      <td>1.99</td>\n",
       "      <td>thecheekypanda</td>\n",
       "      <td>toilet-roll-kitchen-roll-tissue</td>\n",
       "      <td>[b-corp, cruelty-free, eco, tissue, vegan]</td>\n",
       "    </tr>\n",
       "    <tr>\n",
       "      <th>4</th>\n",
       "      <td>33803537973380</td>\n",
       "      <td>1.99</td>\n",
       "      <td>2.09</td>\n",
       "      <td>colgate</td>\n",
       "      <td>dental</td>\n",
       "      <td>[dental-accessories]</td>\n",
       "    </tr>\n",
       "  </tbody>\n",
       "</table>\n",
       "</div>"
      ],
      "text/plain": [
       "       variant_id  price  compare_at_price          vendor  \\\n",
       "0  39587297165444   3.09              3.15           heinz   \n",
       "1  34370361229444   4.99              5.50   whogivesacrap   \n",
       "2  34284951863428   3.69              3.99          plenty   \n",
       "3  33667283583108   1.79              1.99  thecheekypanda   \n",
       "4  33803537973380   1.99              2.09         colgate   \n",
       "\n",
       "                      product_type                                        tags  \n",
       "0             condiments-dressings                       [table-sauces, vegan]  \n",
       "1  toilet-roll-kitchen-roll-tissue                 [b-corp, eco, toilet-rolls]  \n",
       "2  toilet-roll-kitchen-roll-tissue                              [kitchen-roll]  \n",
       "3  toilet-roll-kitchen-roll-tissue  [b-corp, cruelty-free, eco, tissue, vegan]  \n",
       "4                           dental                        [dental-accessories]  "
      ]
     },
     "execution_count": 8,
     "metadata": {},
     "output_type": "execute_result"
    }
   ],
   "source": [
    "inventory.head()"
   ]
  },
  {
   "cell_type": "markdown",
   "metadata": {},
   "source": [
    "Again, there aren't nulls in any column. I don't know the difference between price and compare_at_price. Is it like discounts?"
   ]
  },
  {
   "cell_type": "markdown",
   "metadata": {},
   "source": [
    "# Orders"
   ]
  },
  {
   "cell_type": "code",
   "execution_count": 10,
   "metadata": {},
   "outputs": [
    {
     "name": "stdout",
     "output_type": "stream",
     "text": [
      "<class 'pandas.core.frame.DataFrame'>\n",
      "Index: 8773 entries, 10 to 64538\n",
      "Data columns (total 6 columns):\n",
      " #   Column          Non-Null Count  Dtype         \n",
      "---  ------          --------------  -----         \n",
      " 0   id              8773 non-null   int64         \n",
      " 1   user_id         8773 non-null   object        \n",
      " 2   created_at      8773 non-null   datetime64[us]\n",
      " 3   order_date      8773 non-null   datetime64[us]\n",
      " 4   user_order_seq  8773 non-null   int64         \n",
      " 5   ordered_items   8773 non-null   object        \n",
      "dtypes: datetime64[us](2), int64(2), object(2)\n",
      "memory usage: 479.8+ KB\n"
     ]
    }
   ],
   "source": [
    "orders.info()"
   ]
  },
  {
   "cell_type": "code",
   "execution_count": 11,
   "metadata": {},
   "outputs": [
    {
     "data": {
      "text/html": [
       "<div>\n",
       "<style scoped>\n",
       "    .dataframe tbody tr th:only-of-type {\n",
       "        vertical-align: middle;\n",
       "    }\n",
       "\n",
       "    .dataframe tbody tr th {\n",
       "        vertical-align: top;\n",
       "    }\n",
       "\n",
       "    .dataframe thead th {\n",
       "        text-align: right;\n",
       "    }\n",
       "</style>\n",
       "<table border=\"1\" class=\"dataframe\">\n",
       "  <thead>\n",
       "    <tr style=\"text-align: right;\">\n",
       "      <th></th>\n",
       "      <th>id</th>\n",
       "      <th>user_id</th>\n",
       "      <th>created_at</th>\n",
       "      <th>order_date</th>\n",
       "      <th>user_order_seq</th>\n",
       "      <th>ordered_items</th>\n",
       "    </tr>\n",
       "  </thead>\n",
       "  <tbody>\n",
       "    <tr>\n",
       "      <th>10</th>\n",
       "      <td>2204073066628</td>\n",
       "      <td>62e271062eb827e411bd73941178d29b022f5f2de9d37f...</td>\n",
       "      <td>2020-04-30 14:32:19</td>\n",
       "      <td>2020-04-30</td>\n",
       "      <td>1</td>\n",
       "      <td>[33618849693828, 33618860179588, 3361887404045...</td>\n",
       "    </tr>\n",
       "    <tr>\n",
       "      <th>20</th>\n",
       "      <td>2204707520644</td>\n",
       "      <td>bf591c887c46d5d3513142b6a855dd7ffb9cc00697f6f5...</td>\n",
       "      <td>2020-04-30 17:39:00</td>\n",
       "      <td>2020-04-30</td>\n",
       "      <td>1</td>\n",
       "      <td>[33618835243140, 33618835964036, 3361886244058...</td>\n",
       "    </tr>\n",
       "    <tr>\n",
       "      <th>21</th>\n",
       "      <td>2204838822020</td>\n",
       "      <td>329f08c66abb51f8c0b8a9526670da2d94c0c6eef06700...</td>\n",
       "      <td>2020-04-30 18:12:30</td>\n",
       "      <td>2020-04-30</td>\n",
       "      <td>1</td>\n",
       "      <td>[33618891145348, 33618893570180, 3361889766618...</td>\n",
       "    </tr>\n",
       "    <tr>\n",
       "      <th>34</th>\n",
       "      <td>2208967852164</td>\n",
       "      <td>f6451fce7b1c58d0effbe37fcb4e67b718193562766470...</td>\n",
       "      <td>2020-05-01 19:44:11</td>\n",
       "      <td>2020-05-01</td>\n",
       "      <td>1</td>\n",
       "      <td>[33618830196868, 33618846580868, 3361891234624...</td>\n",
       "    </tr>\n",
       "    <tr>\n",
       "      <th>49</th>\n",
       "      <td>2215889436804</td>\n",
       "      <td>68e872ff888303bff58ec56a3a986f77ddebdbe5c279e7...</td>\n",
       "      <td>2020-05-03 21:56:14</td>\n",
       "      <td>2020-05-03</td>\n",
       "      <td>1</td>\n",
       "      <td>[33667166699652, 33667166699652, 3366717122163...</td>\n",
       "    </tr>\n",
       "  </tbody>\n",
       "</table>\n",
       "</div>"
      ],
      "text/plain": [
       "               id                                            user_id  \\\n",
       "10  2204073066628  62e271062eb827e411bd73941178d29b022f5f2de9d37f...   \n",
       "20  2204707520644  bf591c887c46d5d3513142b6a855dd7ffb9cc00697f6f5...   \n",
       "21  2204838822020  329f08c66abb51f8c0b8a9526670da2d94c0c6eef06700...   \n",
       "34  2208967852164  f6451fce7b1c58d0effbe37fcb4e67b718193562766470...   \n",
       "49  2215889436804  68e872ff888303bff58ec56a3a986f77ddebdbe5c279e7...   \n",
       "\n",
       "            created_at order_date  user_order_seq  \\\n",
       "10 2020-04-30 14:32:19 2020-04-30               1   \n",
       "20 2020-04-30 17:39:00 2020-04-30               1   \n",
       "21 2020-04-30 18:12:30 2020-04-30               1   \n",
       "34 2020-05-01 19:44:11 2020-05-01               1   \n",
       "49 2020-05-03 21:56:14 2020-05-03               1   \n",
       "\n",
       "                                        ordered_items  \n",
       "10  [33618849693828, 33618860179588, 3361887404045...  \n",
       "20  [33618835243140, 33618835964036, 3361886244058...  \n",
       "21  [33618891145348, 33618893570180, 3361889766618...  \n",
       "34  [33618830196868, 33618846580868, 3361891234624...  \n",
       "49  [33667166699652, 33667166699652, 3366717122163...  "
      ]
     },
     "execution_count": 11,
     "metadata": {},
     "output_type": "execute_result"
    }
   ],
   "source": [
    "orders.head()"
   ]
  },
  {
   "cell_type": "markdown",
   "metadata": {},
   "source": [
    "No nulls again. It is not clear to me what it means *user_order_seq*, I guess that is the index of the number of order of this user. I'll check it by ordering the dataframe by *user_id* and *user_order_seq*, and check if this column has value 1 for the first order of every user, and it sums 1 in every successive order."
   ]
  },
  {
   "cell_type": "code",
   "execution_count": 5,
   "metadata": {},
   "outputs": [
    {
     "data": {
      "text/html": [
       "<div>\n",
       "<style scoped>\n",
       "    .dataframe tbody tr th:only-of-type {\n",
       "        vertical-align: middle;\n",
       "    }\n",
       "\n",
       "    .dataframe tbody tr th {\n",
       "        vertical-align: top;\n",
       "    }\n",
       "\n",
       "    .dataframe thead th {\n",
       "        text-align: right;\n",
       "    }\n",
       "</style>\n",
       "<table border=\"1\" class=\"dataframe\">\n",
       "  <thead>\n",
       "    <tr style=\"text-align: right;\">\n",
       "      <th></th>\n",
       "      <th>id</th>\n",
       "      <th>user_id</th>\n",
       "      <th>created_at</th>\n",
       "      <th>order_date</th>\n",
       "      <th>user_order_seq</th>\n",
       "      <th>ordered_items</th>\n",
       "    </tr>\n",
       "  </thead>\n",
       "  <tbody>\n",
       "    <tr>\n",
       "      <th>59784</th>\n",
       "      <td>3999961317508</td>\n",
       "      <td>fffd9f989509e36d1fc3e3e53627d6341482f385052a03...</td>\n",
       "      <td>2022-02-17 11:37:31</td>\n",
       "      <td>2022-02-17</td>\n",
       "      <td>9</td>\n",
       "      <td>[34465293107332, 34465293336708, 3446529333670...</td>\n",
       "    </tr>\n",
       "    <tr>\n",
       "      <th>56893</th>\n",
       "      <td>3978608115844</td>\n",
       "      <td>fffd9f989509e36d1fc3e3e53627d6341482f385052a03...</td>\n",
       "      <td>2022-02-04 11:00:31</td>\n",
       "      <td>2022-02-04</td>\n",
       "      <td>8</td>\n",
       "      <td>[34465293107332, 34465293336708, 3446529333670...</td>\n",
       "    </tr>\n",
       "    <tr>\n",
       "      <th>52066</th>\n",
       "      <td>3962156253316</td>\n",
       "      <td>fffd9f989509e36d1fc3e3e53627d6341482f385052a03...</td>\n",
       "      <td>2022-01-20 09:45:57</td>\n",
       "      <td>2022-01-20</td>\n",
       "      <td>7</td>\n",
       "      <td>[34317850116228, 34465293107332, 3446529392653...</td>\n",
       "    </tr>\n",
       "    <tr>\n",
       "      <th>47062</th>\n",
       "      <td>3934888919172</td>\n",
       "      <td>fffd9f989509e36d1fc3e3e53627d6341482f385052a03...</td>\n",
       "      <td>2021-12-23 13:46:54</td>\n",
       "      <td>2021-12-23</td>\n",
       "      <td>6</td>\n",
       "      <td>[34465293107332, 34465293336708, 3446529333670...</td>\n",
       "    </tr>\n",
       "    <tr>\n",
       "      <th>43696</th>\n",
       "      <td>3911467401348</td>\n",
       "      <td>fffd9f989509e36d1fc3e3e53627d6341482f385052a03...</td>\n",
       "      <td>2021-12-04 17:04:50</td>\n",
       "      <td>2021-12-04</td>\n",
       "      <td>5</td>\n",
       "      <td>[33826432188548, 33826432548996, 3427657033331...</td>\n",
       "    </tr>\n",
       "    <tr>\n",
       "      <th>...</th>\n",
       "      <td>...</td>\n",
       "      <td>...</td>\n",
       "      <td>...</td>\n",
       "      <td>...</td>\n",
       "      <td>...</td>\n",
       "      <td>...</td>\n",
       "    </tr>\n",
       "    <tr>\n",
       "      <th>55006</th>\n",
       "      <td>3967806046340</td>\n",
       "      <td>002fda98daf90c44ceb8601c93f504108afc2d3cdd5d00...</td>\n",
       "      <td>2022-01-25 22:26:10</td>\n",
       "      <td>2022-01-25</td>\n",
       "      <td>1</td>\n",
       "      <td>[33667279126660, 33719430512772, 3380354072589...</td>\n",
       "    </tr>\n",
       "    <tr>\n",
       "      <th>36586</th>\n",
       "      <td>3869556736132</td>\n",
       "      <td>002b3799fded362f631b8238fa2a477a7673e1181b2756...</td>\n",
       "      <td>2021-11-03 23:58:01</td>\n",
       "      <td>2021-11-03</td>\n",
       "      <td>1</td>\n",
       "      <td>[33667247243396, 33667247243396, 3382643277837...</td>\n",
       "    </tr>\n",
       "    <tr>\n",
       "      <th>16945</th>\n",
       "      <td>3695931261060</td>\n",
       "      <td>002abde5718600d5d4cb567ff36deb2d6fb81460257769...</td>\n",
       "      <td>2021-05-01 17:28:56</td>\n",
       "      <td>2021-05-01</td>\n",
       "      <td>1</td>\n",
       "      <td>[33667268083844, 33667268083844, 3366726808384...</td>\n",
       "    </tr>\n",
       "    <tr>\n",
       "      <th>14083</th>\n",
       "      <td>3669216788612</td>\n",
       "      <td>0011d59295eaf3ef5809aba64f2401f11e76f5bf602207...</td>\n",
       "      <td>2021-04-02 12:17:57</td>\n",
       "      <td>2021-04-02</td>\n",
       "      <td>1</td>\n",
       "      <td>[33667174498436, 33667206283396, 3366720726643...</td>\n",
       "    </tr>\n",
       "    <tr>\n",
       "      <th>43334</th>\n",
       "      <td>3909779062916</td>\n",
       "      <td>0001d93f7e96bcb713aa8c5283258b5c3a80a7062fbcaf...</td>\n",
       "      <td>2021-12-03 07:31:44</td>\n",
       "      <td>2021-12-03</td>\n",
       "      <td>1</td>\n",
       "      <td>[33826432548996, 33826462367876, 3382646236787...</td>\n",
       "    </tr>\n",
       "  </tbody>\n",
       "</table>\n",
       "<p>8773 rows × 6 columns</p>\n",
       "</div>"
      ],
      "text/plain": [
       "                  id                                            user_id  \\\n",
       "59784  3999961317508  fffd9f989509e36d1fc3e3e53627d6341482f385052a03...   \n",
       "56893  3978608115844  fffd9f989509e36d1fc3e3e53627d6341482f385052a03...   \n",
       "52066  3962156253316  fffd9f989509e36d1fc3e3e53627d6341482f385052a03...   \n",
       "47062  3934888919172  fffd9f989509e36d1fc3e3e53627d6341482f385052a03...   \n",
       "43696  3911467401348  fffd9f989509e36d1fc3e3e53627d6341482f385052a03...   \n",
       "...              ...                                                ...   \n",
       "55006  3967806046340  002fda98daf90c44ceb8601c93f504108afc2d3cdd5d00...   \n",
       "36586  3869556736132  002b3799fded362f631b8238fa2a477a7673e1181b2756...   \n",
       "16945  3695931261060  002abde5718600d5d4cb567ff36deb2d6fb81460257769...   \n",
       "14083  3669216788612  0011d59295eaf3ef5809aba64f2401f11e76f5bf602207...   \n",
       "43334  3909779062916  0001d93f7e96bcb713aa8c5283258b5c3a80a7062fbcaf...   \n",
       "\n",
       "               created_at order_date  user_order_seq  \\\n",
       "59784 2022-02-17 11:37:31 2022-02-17               9   \n",
       "56893 2022-02-04 11:00:31 2022-02-04               8   \n",
       "52066 2022-01-20 09:45:57 2022-01-20               7   \n",
       "47062 2021-12-23 13:46:54 2021-12-23               6   \n",
       "43696 2021-12-04 17:04:50 2021-12-04               5   \n",
       "...                   ...        ...             ...   \n",
       "55006 2022-01-25 22:26:10 2022-01-25               1   \n",
       "36586 2021-11-03 23:58:01 2021-11-03               1   \n",
       "16945 2021-05-01 17:28:56 2021-05-01               1   \n",
       "14083 2021-04-02 12:17:57 2021-04-02               1   \n",
       "43334 2021-12-03 07:31:44 2021-12-03               1   \n",
       "\n",
       "                                           ordered_items  \n",
       "59784  [34465293107332, 34465293336708, 3446529333670...  \n",
       "56893  [34465293107332, 34465293336708, 3446529333670...  \n",
       "52066  [34317850116228, 34465293107332, 3446529392653...  \n",
       "47062  [34465293107332, 34465293336708, 3446529333670...  \n",
       "43696  [33826432188548, 33826432548996, 3427657033331...  \n",
       "...                                                  ...  \n",
       "55006  [33667279126660, 33719430512772, 3380354072589...  \n",
       "36586  [33667247243396, 33667247243396, 3382643277837...  \n",
       "16945  [33667268083844, 33667268083844, 3366726808384...  \n",
       "14083  [33667174498436, 33667206283396, 3366720726643...  \n",
       "43334  [33826432548996, 33826462367876, 3382646236787...  \n",
       "\n",
       "[8773 rows x 6 columns]"
      ]
     },
     "execution_count": 5,
     "metadata": {},
     "output_type": "execute_result"
    }
   ],
   "source": [
    "orders.sort_values(by=['user_id', 'user_order_seq'], ascending=False)"
   ]
  },
  {
   "cell_type": "markdown",
   "metadata": {},
   "source": [
    "# Regulars"
   ]
  },
  {
   "cell_type": "code",
   "execution_count": 12,
   "metadata": {},
   "outputs": [
    {
     "name": "stdout",
     "output_type": "stream",
     "text": [
      "<class 'pandas.core.frame.DataFrame'>\n",
      "Index: 18105 entries, 3 to 37720\n",
      "Data columns (total 3 columns):\n",
      " #   Column      Non-Null Count  Dtype         \n",
      "---  ------      --------------  -----         \n",
      " 0   user_id     18105 non-null  object        \n",
      " 1   variant_id  18105 non-null  int64         \n",
      " 2   created_at  18105 non-null  datetime64[us]\n",
      "dtypes: datetime64[us](1), int64(1), object(1)\n",
      "memory usage: 565.8+ KB\n"
     ]
    }
   ],
   "source": [
    "regulars.info()"
   ]
  },
  {
   "cell_type": "code",
   "execution_count": 13,
   "metadata": {},
   "outputs": [
    {
     "data": {
      "text/html": [
       "<div>\n",
       "<style scoped>\n",
       "    .dataframe tbody tr th:only-of-type {\n",
       "        vertical-align: middle;\n",
       "    }\n",
       "\n",
       "    .dataframe tbody tr th {\n",
       "        vertical-align: top;\n",
       "    }\n",
       "\n",
       "    .dataframe thead th {\n",
       "        text-align: right;\n",
       "    }\n",
       "</style>\n",
       "<table border=\"1\" class=\"dataframe\">\n",
       "  <thead>\n",
       "    <tr style=\"text-align: right;\">\n",
       "      <th></th>\n",
       "      <th>user_id</th>\n",
       "      <th>variant_id</th>\n",
       "      <th>created_at</th>\n",
       "    </tr>\n",
       "  </thead>\n",
       "  <tbody>\n",
       "    <tr>\n",
       "      <th>3</th>\n",
       "      <td>68e872ff888303bff58ec56a3a986f77ddebdbe5c279e7...</td>\n",
       "      <td>33618848088196</td>\n",
       "      <td>2020-04-30 15:07:03</td>\n",
       "    </tr>\n",
       "    <tr>\n",
       "      <th>11</th>\n",
       "      <td>aed88fc0b004270a62ff1fe4b94141f6b1db1496dbb0c0...</td>\n",
       "      <td>33667178659972</td>\n",
       "      <td>2020-05-05 23:34:35</td>\n",
       "    </tr>\n",
       "    <tr>\n",
       "      <th>18</th>\n",
       "      <td>68e872ff888303bff58ec56a3a986f77ddebdbe5c279e7...</td>\n",
       "      <td>33619009208452</td>\n",
       "      <td>2020-04-30 15:07:03</td>\n",
       "    </tr>\n",
       "    <tr>\n",
       "      <th>46</th>\n",
       "      <td>aed88fc0b004270a62ff1fe4b94141f6b1db1496dbb0c0...</td>\n",
       "      <td>33667305373828</td>\n",
       "      <td>2020-05-05 23:34:35</td>\n",
       "    </tr>\n",
       "    <tr>\n",
       "      <th>47</th>\n",
       "      <td>4594e99557113d5a1c5b59bf31b8704aafe5c7bd180b32...</td>\n",
       "      <td>33667247341700</td>\n",
       "      <td>2020-05-06 14:42:11</td>\n",
       "    </tr>\n",
       "  </tbody>\n",
       "</table>\n",
       "</div>"
      ],
      "text/plain": [
       "                                              user_id      variant_id  \\\n",
       "3   68e872ff888303bff58ec56a3a986f77ddebdbe5c279e7...  33618848088196   \n",
       "11  aed88fc0b004270a62ff1fe4b94141f6b1db1496dbb0c0...  33667178659972   \n",
       "18  68e872ff888303bff58ec56a3a986f77ddebdbe5c279e7...  33619009208452   \n",
       "46  aed88fc0b004270a62ff1fe4b94141f6b1db1496dbb0c0...  33667305373828   \n",
       "47  4594e99557113d5a1c5b59bf31b8704aafe5c7bd180b32...  33667247341700   \n",
       "\n",
       "            created_at  \n",
       "3  2020-04-30 15:07:03  \n",
       "11 2020-05-05 23:34:35  \n",
       "18 2020-04-30 15:07:03  \n",
       "46 2020-05-05 23:34:35  \n",
       "47 2020-05-06 14:42:11  "
      ]
     },
     "execution_count": 13,
     "metadata": {},
     "output_type": "execute_result"
    }
   ],
   "source": [
    "regulars.head()"
   ]
  },
  {
   "cell_type": "markdown",
   "metadata": {},
   "source": [
    "# Users"
   ]
  },
  {
   "cell_type": "code",
   "execution_count": 14,
   "metadata": {},
   "outputs": [
    {
     "name": "stdout",
     "output_type": "stream",
     "text": [
      "<class 'pandas.core.frame.DataFrame'>\n",
      "Index: 4983 entries, 2160 to 3360\n",
      "Data columns (total 10 columns):\n",
      " #   Column                 Non-Null Count  Dtype  \n",
      "---  ------                 --------------  -----  \n",
      " 0   user_id                4983 non-null   object \n",
      " 1   user_segment           4983 non-null   object \n",
      " 2   user_nuts1             4932 non-null   object \n",
      " 3   first_ordered_at       4983 non-null   object \n",
      " 4   customer_cohort_month  4983 non-null   object \n",
      " 5   count_people           325 non-null    float64\n",
      " 6   count_adults           325 non-null    float64\n",
      " 7   count_children         325 non-null    float64\n",
      " 8   count_babies           325 non-null    float64\n",
      " 9   count_pets             325 non-null    float64\n",
      "dtypes: float64(5), object(5)\n",
      "memory usage: 428.2+ KB\n"
     ]
    }
   ],
   "source": [
    "users.info()"
   ]
  },
  {
   "cell_type": "markdown",
   "metadata": {},
   "source": [
    "Nuts1 is a geocoding standard to refer to administrative divisions of countries for statistical purposes, so can be transformed into longitude and latitude (more infomative). In this df all the count columns (5-9) have a lot of null values. I'll try to explore how are they distributed."
   ]
  },
  {
   "cell_type": "code",
   "execution_count": 20,
   "metadata": {},
   "outputs": [
    {
     "data": {
      "text/html": [
       "<div>\n",
       "<style scoped>\n",
       "    .dataframe tbody tr th:only-of-type {\n",
       "        vertical-align: middle;\n",
       "    }\n",
       "\n",
       "    .dataframe tbody tr th {\n",
       "        vertical-align: top;\n",
       "    }\n",
       "\n",
       "    .dataframe thead th {\n",
       "        text-align: right;\n",
       "    }\n",
       "</style>\n",
       "<table border=\"1\" class=\"dataframe\">\n",
       "  <thead>\n",
       "    <tr style=\"text-align: right;\">\n",
       "      <th></th>\n",
       "      <th>user_id</th>\n",
       "      <th>user_segment</th>\n",
       "      <th>user_nuts1</th>\n",
       "      <th>first_ordered_at</th>\n",
       "      <th>customer_cohort_month</th>\n",
       "      <th>count_people</th>\n",
       "      <th>count_adults</th>\n",
       "      <th>count_children</th>\n",
       "      <th>count_babies</th>\n",
       "      <th>count_pets</th>\n",
       "    </tr>\n",
       "  </thead>\n",
       "  <tbody>\n",
       "    <tr>\n",
       "      <th>3354</th>\n",
       "      <td>bd5dd90b15fc4c382330a17915927322d928a091b13f91...</td>\n",
       "      <td>Top Up</td>\n",
       "      <td>UKD</td>\n",
       "      <td>2022-03-12 14:48:34</td>\n",
       "      <td>2022-03-01 00:00:00</td>\n",
       "      <td>NaN</td>\n",
       "      <td>NaN</td>\n",
       "      <td>NaN</td>\n",
       "      <td>NaN</td>\n",
       "      <td>NaN</td>\n",
       "    </tr>\n",
       "    <tr>\n",
       "      <th>3783</th>\n",
       "      <td>4bf69e60fc27dc2948126e4bf394fd0feda2735be56a96...</td>\n",
       "      <td>Proposition</td>\n",
       "      <td>UKL</td>\n",
       "      <td>2022-03-12 13:38:31</td>\n",
       "      <td>2022-03-01 00:00:00</td>\n",
       "      <td>NaN</td>\n",
       "      <td>NaN</td>\n",
       "      <td>NaN</td>\n",
       "      <td>NaN</td>\n",
       "      <td>NaN</td>\n",
       "    </tr>\n",
       "    <tr>\n",
       "      <th>2727</th>\n",
       "      <td>5915ccaa06424cb11cfa3ac3ffd82ffb699a7ae0e90515...</td>\n",
       "      <td>Top Up</td>\n",
       "      <td>UKD</td>\n",
       "      <td>2022-03-12 12:55:47</td>\n",
       "      <td>2022-03-01 00:00:00</td>\n",
       "      <td>NaN</td>\n",
       "      <td>NaN</td>\n",
       "      <td>NaN</td>\n",
       "      <td>NaN</td>\n",
       "      <td>NaN</td>\n",
       "    </tr>\n",
       "    <tr>\n",
       "      <th>38</th>\n",
       "      <td>13e2095e99f3e21741296be230791513d47b25357abfc1...</td>\n",
       "      <td>Top Up</td>\n",
       "      <td>UKD</td>\n",
       "      <td>2022-03-12 12:32:13</td>\n",
       "      <td>2022-03-01 00:00:00</td>\n",
       "      <td>NaN</td>\n",
       "      <td>NaN</td>\n",
       "      <td>NaN</td>\n",
       "      <td>NaN</td>\n",
       "      <td>NaN</td>\n",
       "    </tr>\n",
       "    <tr>\n",
       "      <th>2957</th>\n",
       "      <td>a89b1837e67d600bb55c8b7ed840776ab3e37459d1f901...</td>\n",
       "      <td>Top Up</td>\n",
       "      <td>UKH</td>\n",
       "      <td>2022-03-11 23:56:54</td>\n",
       "      <td>2022-03-01 00:00:00</td>\n",
       "      <td>NaN</td>\n",
       "      <td>NaN</td>\n",
       "      <td>NaN</td>\n",
       "      <td>NaN</td>\n",
       "      <td>NaN</td>\n",
       "    </tr>\n",
       "  </tbody>\n",
       "</table>\n",
       "</div>"
      ],
      "text/plain": [
       "                                                user_id user_segment  \\\n",
       "3354  bd5dd90b15fc4c382330a17915927322d928a091b13f91...       Top Up   \n",
       "3783  4bf69e60fc27dc2948126e4bf394fd0feda2735be56a96...  Proposition   \n",
       "2727  5915ccaa06424cb11cfa3ac3ffd82ffb699a7ae0e90515...       Top Up   \n",
       "38    13e2095e99f3e21741296be230791513d47b25357abfc1...       Top Up   \n",
       "2957  a89b1837e67d600bb55c8b7ed840776ab3e37459d1f901...       Top Up   \n",
       "\n",
       "     user_nuts1     first_ordered_at customer_cohort_month  count_people  \\\n",
       "3354        UKD  2022-03-12 14:48:34   2022-03-01 00:00:00           NaN   \n",
       "3783        UKL  2022-03-12 13:38:31   2022-03-01 00:00:00           NaN   \n",
       "2727        UKD  2022-03-12 12:55:47   2022-03-01 00:00:00           NaN   \n",
       "38          UKD  2022-03-12 12:32:13   2022-03-01 00:00:00           NaN   \n",
       "2957        UKH  2022-03-11 23:56:54   2022-03-01 00:00:00           NaN   \n",
       "\n",
       "      count_adults  count_children  count_babies  count_pets  \n",
       "3354           NaN             NaN           NaN         NaN  \n",
       "3783           NaN             NaN           NaN         NaN  \n",
       "2727           NaN             NaN           NaN         NaN  \n",
       "38             NaN             NaN           NaN         NaN  \n",
       "2957           NaN             NaN           NaN         NaN  "
      ]
     },
     "execution_count": 20,
     "metadata": {},
     "output_type": "execute_result"
    }
   ],
   "source": [
    "users.sort_values(by=[\"first_ordered_at\"], ascending=False).head()"
   ]
  },
  {
   "cell_type": "code",
   "execution_count": 22,
   "metadata": {},
   "outputs": [
    {
     "data": {
      "text/html": [
       "<div>\n",
       "<style scoped>\n",
       "    .dataframe tbody tr th:only-of-type {\n",
       "        vertical-align: middle;\n",
       "    }\n",
       "\n",
       "    .dataframe tbody tr th {\n",
       "        vertical-align: top;\n",
       "    }\n",
       "\n",
       "    .dataframe thead th {\n",
       "        text-align: right;\n",
       "    }\n",
       "</style>\n",
       "<table border=\"1\" class=\"dataframe\">\n",
       "  <thead>\n",
       "    <tr style=\"text-align: right;\">\n",
       "      <th></th>\n",
       "      <th>user_id</th>\n",
       "      <th>user_segment</th>\n",
       "      <th>user_nuts1</th>\n",
       "      <th>first_ordered_at</th>\n",
       "      <th>customer_cohort_month</th>\n",
       "      <th>count_people</th>\n",
       "      <th>count_adults</th>\n",
       "      <th>count_children</th>\n",
       "      <th>count_babies</th>\n",
       "      <th>count_pets</th>\n",
       "    </tr>\n",
       "  </thead>\n",
       "  <tbody>\n",
       "    <tr>\n",
       "      <th>3681</th>\n",
       "      <td>811037d7f34ee728d061e403576c82fad6512b176f5441...</td>\n",
       "      <td>Top Up</td>\n",
       "      <td>UKD</td>\n",
       "      <td>2022-03-09 18:51:25</td>\n",
       "      <td>2022-03-01 00:00:00</td>\n",
       "      <td>4.0</td>\n",
       "      <td>2.0</td>\n",
       "      <td>2.0</td>\n",
       "      <td>0.0</td>\n",
       "      <td>0.0</td>\n",
       "    </tr>\n",
       "    <tr>\n",
       "      <th>4176</th>\n",
       "      <td>08a79720fdbe53eb607b8034a48a5031063cb98482459a...</td>\n",
       "      <td>Top Up</td>\n",
       "      <td>UKK</td>\n",
       "      <td>2022-03-07 16:43:08</td>\n",
       "      <td>2022-03-01 00:00:00</td>\n",
       "      <td>3.0</td>\n",
       "      <td>2.0</td>\n",
       "      <td>0.0</td>\n",
       "      <td>1.0</td>\n",
       "      <td>1.0</td>\n",
       "    </tr>\n",
       "    <tr>\n",
       "      <th>156</th>\n",
       "      <td>7c42d9f54eea400fa7877ab4463367c61d5ae42b4e982c...</td>\n",
       "      <td>Proposition</td>\n",
       "      <td>UKK</td>\n",
       "      <td>2022-03-06 17:41:29</td>\n",
       "      <td>2022-03-01 00:00:00</td>\n",
       "      <td>2.0</td>\n",
       "      <td>2.0</td>\n",
       "      <td>0.0</td>\n",
       "      <td>0.0</td>\n",
       "      <td>1.0</td>\n",
       "    </tr>\n",
       "    <tr>\n",
       "      <th>689</th>\n",
       "      <td>94078258b5309d9277eaaf36f499797394a2201b33dc44...</td>\n",
       "      <td>Proposition</td>\n",
       "      <td>UKH</td>\n",
       "      <td>2022-03-04 10:43:59</td>\n",
       "      <td>2022-03-01 00:00:00</td>\n",
       "      <td>2.0</td>\n",
       "      <td>2.0</td>\n",
       "      <td>0.0</td>\n",
       "      <td>0.0</td>\n",
       "      <td>0.0</td>\n",
       "    </tr>\n",
       "    <tr>\n",
       "      <th>653</th>\n",
       "      <td>8d44255551f6c21c820b5351b9113769b896af8f2cc2f3...</td>\n",
       "      <td>Proposition</td>\n",
       "      <td>UKK</td>\n",
       "      <td>2022-02-28 13:42:53</td>\n",
       "      <td>2022-02-01 00:00:00</td>\n",
       "      <td>1.0</td>\n",
       "      <td>1.0</td>\n",
       "      <td>0.0</td>\n",
       "      <td>0.0</td>\n",
       "      <td>0.0</td>\n",
       "    </tr>\n",
       "  </tbody>\n",
       "</table>\n",
       "</div>"
      ],
      "text/plain": [
       "                                                user_id user_segment  \\\n",
       "3681  811037d7f34ee728d061e403576c82fad6512b176f5441...       Top Up   \n",
       "4176  08a79720fdbe53eb607b8034a48a5031063cb98482459a...       Top Up   \n",
       "156   7c42d9f54eea400fa7877ab4463367c61d5ae42b4e982c...  Proposition   \n",
       "689   94078258b5309d9277eaaf36f499797394a2201b33dc44...  Proposition   \n",
       "653   8d44255551f6c21c820b5351b9113769b896af8f2cc2f3...  Proposition   \n",
       "\n",
       "     user_nuts1     first_ordered_at customer_cohort_month  count_people  \\\n",
       "3681        UKD  2022-03-09 18:51:25   2022-03-01 00:00:00           4.0   \n",
       "4176        UKK  2022-03-07 16:43:08   2022-03-01 00:00:00           3.0   \n",
       "156         UKK  2022-03-06 17:41:29   2022-03-01 00:00:00           2.0   \n",
       "689         UKH  2022-03-04 10:43:59   2022-03-01 00:00:00           2.0   \n",
       "653         UKK  2022-02-28 13:42:53   2022-02-01 00:00:00           1.0   \n",
       "\n",
       "      count_adults  count_children  count_babies  count_pets  \n",
       "3681           2.0             2.0           0.0         0.0  \n",
       "4176           2.0             0.0           1.0         1.0  \n",
       "156            2.0             0.0           0.0         1.0  \n",
       "689            2.0             0.0           0.0         0.0  \n",
       "653            1.0             0.0           0.0         0.0  "
      ]
     },
     "execution_count": 22,
     "metadata": {},
     "output_type": "execute_result"
    }
   ],
   "source": [
    "users.sort_values(by=['first_ordered_at'], ascending=False).dropna().head()"
   ]
  },
  {
   "cell_type": "code",
   "execution_count": 33,
   "metadata": {},
   "outputs": [
    {
     "data": {
      "text/plain": [
       "<Axes: title={'center': 'NaN values in count_people over time'}, xlabel='first_ordered_at'>"
      ]
     },
     "execution_count": 33,
     "metadata": {},
     "output_type": "execute_result"
    },
    {
     "data": {
      "image/png": "[encoded data removed]",
      "text/plain": [
       "<Figure size 640x480 with 1 Axes>"
      ]
     },
     "metadata": {},
     "output_type": "display_data"
    }
   ],
   "source": [
    "users['first_ordered_at'] = pd.to_datetime(users['first_ordered_at'])\n",
    "\n",
    "# new column 'is_nan' to indicate whether 'count_people' is NaN\n",
    "users['is_nan'] = users['count_people'].isna()\n",
    "\n",
    "nan_distribution = users.groupby(users['first_ordered_at'].dt.to_period('M'))['is_nan'].sum()\n",
    "nan_distribution.plot(kind='bar', title='NaN values in count_people over time')\n"
   ]
  },
  {
   "cell_type": "markdown",
   "metadata": {},
   "source": [
    "It looks like the first 4 months for which we have data have hardly any NaN value. From there, the number of NaNs per month increases (from the seventh month onwards there are none with less than 100 null values)."
   ]
  },
  {
   "cell_type": "markdown",
   "metadata": {},
   "source": [
    "**Deeper analysis of these variables:**\n",
    "\n",
    "(Ultimately profiling the client)"
   ]
  },
  {
   "cell_type": "code",
   "execution_count": 42,
   "metadata": {},
   "outputs": [
    {
     "data": {
      "text/plain": [
       "<Axes: xlabel='count_people'>"
      ]
     },
     "execution_count": 42,
     "metadata": {},
     "output_type": "execute_result"
    },
    {
     "data": {
      "image/png": "[encoded data removed]",
      "text/plain": [
       "<Figure size 640x480 with 1 Axes>"
      ]
     },
     "metadata": {},
     "output_type": "display_data"
    }
   ],
   "source": [
    "users['count_people'].dropna().value_counts().sort_index().plot(kind='bar')"
   ]
  },
  {
   "cell_type": "code",
   "execution_count": 44,
   "metadata": {},
   "outputs": [
    {
     "data": {
      "text/plain": [
       "<Axes: xlabel='count_adults'>"
      ]
     },
     "execution_count": 44,
     "metadata": {},
     "output_type": "execute_result"
    },
    {
     "data": {
      "image/png": "[encoded data removed]",
      "text/plain": [
       "<Figure size 640x480 with 1 Axes>"
      ]
     },
     "metadata": {},
     "output_type": "display_data"
    }
   ],
   "source": [
    "users['count_adults'].dropna().value_counts().sort_index().plot(kind='bar')"
   ]
  },
  {
   "cell_type": "code",
   "execution_count": 45,
   "metadata": {},
   "outputs": [
    {
     "data": {
      "text/plain": [
       "<Axes: xlabel='count_children'>"
      ]
     },
     "execution_count": 45,
     "metadata": {},
     "output_type": "execute_result"
    },
    {
     "data": {
      "image/png": "[encoded data removed]",
      "text/plain": [
       "<Figure size 640x480 with 1 Axes>"
      ]
     },
     "metadata": {},
     "output_type": "display_data"
    }
   ],
   "source": [
    "users['count_children'].dropna().value_counts().sort_index().plot(kind='bar')"
   ]
  },
  {
   "cell_type": "code",
   "execution_count": 46,
   "metadata": {},
   "outputs": [
    {
     "data": {
      "text/plain": [
       "<Axes: xlabel='count_babies'>"
      ]
     },
     "execution_count": 46,
     "metadata": {},
     "output_type": "execute_result"
    },
    {
     "data": {
      "image/png": "[encoded data removed]",
      "text/plain": [
       "<Figure size 640x480 with 1 Axes>"
      ]
     },
     "metadata": {},
     "output_type": "display_data"
    }
   ],
   "source": [
    "users['count_babies'].dropna().value_counts().sort_index().plot(kind='bar')"
   ]
  },
  {
   "cell_type": "code",
   "execution_count": 47,
   "metadata": {},
   "outputs": [
    {
     "data": {
      "text/plain": [
       "<Axes: xlabel='count_pets'>"
      ]
     },
     "execution_count": 47,
     "metadata": {},
     "output_type": "execute_result"
    },
    {
     "data": {
      "image/png": "[encoded data removed]",
      "text/plain": [
       "<Figure size 640x480 with 1 Axes>"
      ]
     },
     "metadata": {},
     "output_type": "display_data"
    }
   ],
   "source": [
    "users['count_pets'].dropna().value_counts().sort_index().plot(kind='bar')"
   ]
  },
  {
   "cell_type": "markdown",
   "metadata": {},
   "source": [
    "My conclusions from the graphs above are:\n",
    "- Most of the clients live in houses between 1 and 4 people, being 2 (a couple) the most common one.\n",
    "- The most common number of adults in a house is 2, with 200 appearances. The second one is 1 adult, with 75 appearances.\n",
    "- Most of the houses (almost 200) don't have children. Around 50 have one, and the same with two childre. The number of houses with three or more children is residual. This makes sense with the previous points, where we saw that although the most common number of adults per house is 2, there are many houses with 3 and 4 persons. This is because these houses mostly consist of 2 adults and 1 or 2 children. "
   ]
  }
 ],
 "metadata": {
  "kernelspec": {
   "display_name": "zrive-ds-ojkehGB--py3.11",
   "language": "python",
   "name": "python3"
  },
  "language_info": {
   "codemirror_mode": {
    "name": "ipython",
    "version": 3
   },
   "file_extension": ".py",
   "mimetype": "text/x-python",
   "name": "python",
   "nbconvert_exporter": "python",
   "pygments_lexer": "ipython3",
   "version": "3.11.0"
  }
 },
 "nbformat": 4,
 "nbformat_minor": 2
}
